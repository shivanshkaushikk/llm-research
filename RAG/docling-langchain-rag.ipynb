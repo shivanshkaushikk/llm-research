{
 "cells": [
  {
   "cell_type": "code",
   "execution_count": 5,
   "id": "294af0de-3aca-4511-9c78-5496cca15af5",
   "metadata": {
    "scrolled": true
   },
   "outputs": [
    {
     "name": "stderr",
     "output_type": "stream",
     "text": [
      "huggingface/tokenizers: The current process just got forked, after parallelism has already been used. Disabling parallelism to avoid deadlocks...\n",
      "To disable this warning, you can either:\n",
      "\t- Avoid using `tokenizers` before the fork if possible\n",
      "\t- Explicitly set the environment variable TOKENIZERS_PARALLELISM=(true | false)\n"
     ]
    },
    {
     "name": "stdout",
     "output_type": "stream",
     "text": [
      "Requirement already satisfied: docling in /Users/shivanshkaushik/.jupyter/lib/python3.11/site-packages (2.14.0)\n",
      "Requirement already satisfied: docling-core in /Users/shivanshkaushik/.jupyter/lib/python3.11/site-packages (2.12.1)\n",
      "Requirement already satisfied: python-dotenv in /Users/shivanshkaushik/.jupyter/lib/python3.11/site-packages (1.0.1)\n",
      "Requirement already satisfied: langchain-text-splitters in /Users/shivanshkaushik/.jupyter/lib/python3.11/site-packages (0.3.0)\n",
      "Requirement already satisfied: langchain-ollama in /Users/shivanshkaushik/.jupyter/lib/python3.11/site-packages (0.2.1)\n",
      "Requirement already satisfied: langchain-milvus in /Users/shivanshkaushik/.jupyter/lib/python3.11/site-packages (0.1.7)\n",
      "Requirement already satisfied: beautifulsoup4<5.0.0,>=4.12.3 in /Users/shivanshkaushik/.jupyter/lib/python3.11/site-packages (from docling) (4.12.3)\n",
      "Requirement already satisfied: certifi>=2024.7.4 in /Users/shivanshkaushik/.jupyter/lib/python3.11/site-packages (from docling) (2024.8.30)\n",
      "Requirement already satisfied: deepsearch-glm<2.0.0,>=1.0.0 in /Users/shivanshkaushik/.jupyter/lib/python3.11/site-packages (from docling) (1.0.0)\n",
      "Requirement already satisfied: docling-ibm-models<4.0.0,>=3.1.0 in /Users/shivanshkaushik/.jupyter/lib/python3.11/site-packages (from docling) (3.1.0)\n",
      "Requirement already satisfied: docling-parse<4.0.0,>=3.0.0 in /Users/shivanshkaushik/.jupyter/lib/python3.11/site-packages (from docling) (3.0.0)\n",
      "Requirement already satisfied: easyocr<2.0,>=1.7 in /Users/shivanshkaushik/.jupyter/lib/python3.11/site-packages (from docling) (1.7.2)\n",
      "Requirement already satisfied: filetype<2.0.0,>=1.2.0 in /Users/shivanshkaushik/.jupyter/lib/python3.11/site-packages (from docling) (1.2.0)\n",
      "Requirement already satisfied: huggingface_hub<1,>=0.23 in /Users/shivanshkaushik/.jupyter/lib/python3.11/site-packages (from docling) (0.24.6)\n",
      "Requirement already satisfied: lxml<6.0.0,>=4.0.0 in /Users/shivanshkaushik/.jupyter/lib/python3.11/site-packages (from docling) (5.3.0)\n",
      "Requirement already satisfied: marko<3.0.0,>=2.1.2 in /Users/shivanshkaushik/.jupyter/lib/python3.11/site-packages (from docling) (2.1.2)\n",
      "Requirement already satisfied: openpyxl<4.0.0,>=3.1.5 in /Users/shivanshkaushik/.jupyter/lib/python3.11/site-packages (from docling) (3.1.5)\n",
      "Requirement already satisfied: pandas<3.0.0,>=2.1.4 in /Users/shivanshkaushik/.jupyter/lib/python3.11/site-packages (from docling) (2.2.2)\n",
      "Requirement already satisfied: pydantic<3.0.0,>=2.0.0 in /Users/shivanshkaushik/.jupyter/lib/python3.11/site-packages (from docling) (2.9.1)\n",
      "Requirement already satisfied: pydantic-settings<3.0.0,>=2.3.0 in /Users/shivanshkaushik/.jupyter/lib/python3.11/site-packages (from docling) (2.5.2)\n",
      "Requirement already satisfied: pypdfium2<5.0.0,>=4.30.0 in /Users/shivanshkaushik/.jupyter/lib/python3.11/site-packages (from docling) (4.30.1)\n",
      "Requirement already satisfied: python-docx<2.0.0,>=1.1.2 in /Users/shivanshkaushik/.jupyter/lib/python3.11/site-packages (from docling) (1.1.2)\n",
      "Requirement already satisfied: python-pptx<2.0.0,>=1.0.2 in /Users/shivanshkaushik/.jupyter/lib/python3.11/site-packages (from docling) (1.0.2)\n",
      "Requirement already satisfied: requests<3.0.0,>=2.32.3 in /Users/shivanshkaushik/.jupyter/lib/python3.11/site-packages (from docling) (2.32.3)\n",
      "Requirement already satisfied: rtree<2.0.0,>=1.3.0 in /Users/shivanshkaushik/.jupyter/lib/python3.11/site-packages (from docling) (1.3.0)\n",
      "Requirement already satisfied: scipy<2.0.0,>=1.6.0 in /Users/shivanshkaushik/.jupyter/lib/python3.11/site-packages (from docling) (1.14.1)\n",
      "Requirement already satisfied: typer<0.13.0,>=0.12.5 in /Users/shivanshkaushik/.jupyter/lib/python3.11/site-packages (from docling) (0.12.5)\n",
      "Requirement already satisfied: jsonref<2.0.0,>=1.1.0 in /Users/shivanshkaushik/.jupyter/lib/python3.11/site-packages (from docling-core) (1.1.0)\n",
      "Requirement already satisfied: jsonschema<5.0.0,>=4.16.0 in /Users/shivanshkaushik/.jupyter/lib/python3.11/site-packages (from docling-core) (4.23.0)\n",
      "Requirement already satisfied: pillow<11.0.0,>=10.3.0 in /Users/shivanshkaushik/.jupyter/lib/python3.11/site-packages (from docling-core) (10.4.0)\n",
      "Requirement already satisfied: pyyaml<7.0.0,>=5.1 in /Users/shivanshkaushik/.jupyter/lib/python3.11/site-packages (from docling-core) (6.0.2)\n",
      "Requirement already satisfied: tabulate<0.10.0,>=0.9.0 in /Users/shivanshkaushik/.jupyter/lib/python3.11/site-packages (from docling-core) (0.9.0)\n",
      "Requirement already satisfied: typing-extensions<5.0.0,>=4.12.2 in /Users/shivanshkaushik/.jupyter/lib/python3.11/site-packages (from docling-core) (4.12.2)\n",
      "Requirement already satisfied: langchain-core<0.4.0,>=0.3.0 in /Users/shivanshkaushik/.jupyter/lib/python3.11/site-packages (from langchain-text-splitters) (0.3.21)\n",
      "Requirement already satisfied: ollama<1,>=0.3.0 in /Users/shivanshkaushik/.jupyter/lib/python3.11/site-packages (from langchain-ollama) (0.4.1)\n",
      "Requirement already satisfied: pymilvus<3.0.0,>=2.4.3 in /Users/shivanshkaushik/.jupyter/lib/python3.11/site-packages (from langchain-milvus) (2.5.2)\n",
      "Requirement already satisfied: soupsieve>1.2 in /Users/shivanshkaushik/.jupyter/lib/python3.11/site-packages (from beautifulsoup4<5.0.0,>=4.12.3->docling) (2.6)\n",
      "Requirement already satisfied: semchunk<3.0.0,>=2.2.0 in /Users/shivanshkaushik/.jupyter/lib/python3.11/site-packages (from docling-core) (2.2.2)\n",
      "Requirement already satisfied: transformers<5.0.0,>=4.34.0 in /Users/shivanshkaushik/.jupyter/lib/python3.11/site-packages (from docling-core) (4.46.3)\n",
      "Requirement already satisfied: jsonlines<4.0.0,>=3.1.0 in /Users/shivanshkaushik/.jupyter/lib/python3.11/site-packages (from docling-ibm-models<4.0.0,>=3.1.0->docling) (3.1.0)\n",
      "Requirement already satisfied: numpy<3.0.0,>=1.24.4 in /Users/shivanshkaushik/.jupyter/lib/python3.11/site-packages (from docling-ibm-models<4.0.0,>=3.1.0->docling) (1.26.4)\n",
      "Requirement already satisfied: opencv-python-headless<5.0.0.0,>=4.6.0.66 in /Users/shivanshkaushik/.jupyter/lib/python3.11/site-packages (from docling-ibm-models<4.0.0,>=3.1.0->docling) (4.10.0.84)\n",
      "Requirement already satisfied: safetensors[torch]<1,>=0.4.3 in /Users/shivanshkaushik/.jupyter/lib/python3.11/site-packages (from docling-ibm-models<4.0.0,>=3.1.0->docling) (0.4.4)\n",
      "Requirement already satisfied: torch<3.0.0,>=2.2.2 in /Users/shivanshkaushik/.jupyter/lib/python3.11/site-packages (from docling-ibm-models<4.0.0,>=3.1.0->docling) (2.5.1)\n",
      "Requirement already satisfied: torchvision<1,>=0 in /Users/shivanshkaushik/.jupyter/lib/python3.11/site-packages (from docling-ibm-models<4.0.0,>=3.1.0->docling) (0.20.1)\n",
      "Requirement already satisfied: tqdm<5.0.0,>=4.64.0 in /Users/shivanshkaushik/.jupyter/lib/python3.11/site-packages (from docling-ibm-models<4.0.0,>=3.1.0->docling) (4.66.5)\n",
      "Requirement already satisfied: autoflake<3.0.0,>=2.3.1 in /Users/shivanshkaushik/.jupyter/lib/python3.11/site-packages (from docling-parse<4.0.0,>=3.0.0->docling) (2.3.1)\n",
      "Requirement already satisfied: scikit-image in /Users/shivanshkaushik/.jupyter/lib/python3.11/site-packages (from easyocr<2.0,>=1.7->docling) (0.25.0)\n",
      "Requirement already satisfied: python-bidi in /Users/shivanshkaushik/.jupyter/lib/python3.11/site-packages (from easyocr<2.0,>=1.7->docling) (0.6.3)\n",
      "Requirement already satisfied: Shapely in /Users/shivanshkaushik/.jupyter/lib/python3.11/site-packages (from easyocr<2.0,>=1.7->docling) (2.0.6)\n",
      "Requirement already satisfied: pyclipper in /Users/shivanshkaushik/.jupyter/lib/python3.11/site-packages (from easyocr<2.0,>=1.7->docling) (1.3.0.post6)\n",
      "Requirement already satisfied: ninja in /Users/shivanshkaushik/.jupyter/lib/python3.11/site-packages (from easyocr<2.0,>=1.7->docling) (1.11.1.3)\n",
      "Requirement already satisfied: filelock in /Users/shivanshkaushik/.jupyter/lib/python3.11/site-packages (from huggingface_hub<1,>=0.23->docling) (3.15.4)\n",
      "Requirement already satisfied: fsspec>=2023.5.0 in /Users/shivanshkaushik/.jupyter/lib/python3.11/site-packages (from huggingface_hub<1,>=0.23->docling) (2024.9.0)\n",
      "Requirement already satisfied: packaging>=20.9 in /Users/shivanshkaushik/.jupyter/lib/python3.11/site-packages (from huggingface_hub<1,>=0.23->docling) (24.1)\n",
      "Requirement already satisfied: attrs>=22.2.0 in /Users/shivanshkaushik/.jupyter/lib/python3.11/site-packages (from jsonschema<5.0.0,>=4.16.0->docling-core) (24.2.0)\n",
      "Requirement already satisfied: jsonschema-specifications>=2023.03.6 in /Users/shivanshkaushik/.jupyter/lib/python3.11/site-packages (from jsonschema<5.0.0,>=4.16.0->docling-core) (2023.12.1)\n",
      "Requirement already satisfied: referencing>=0.28.4 in /Users/shivanshkaushik/.jupyter/lib/python3.11/site-packages (from jsonschema<5.0.0,>=4.16.0->docling-core) (0.35.1)\n",
      "Requirement already satisfied: rpds-py>=0.7.1 in /Users/shivanshkaushik/.jupyter/lib/python3.11/site-packages (from jsonschema<5.0.0,>=4.16.0->docling-core) (0.20.0)\n",
      "Requirement already satisfied: jsonpatch<2.0,>=1.33 in /Users/shivanshkaushik/.jupyter/lib/python3.11/site-packages (from langchain-core<0.4.0,>=0.3.0->langchain-text-splitters) (1.33)\n",
      "Requirement already satisfied: langsmith<0.2.0,>=0.1.125 in /Users/shivanshkaushik/.jupyter/lib/python3.11/site-packages (from langchain-core<0.4.0,>=0.3.0->langchain-text-splitters) (0.1.129)\n",
      "Requirement already satisfied: tenacity!=8.4.0,<10.0.0,>=8.1.0 in /Users/shivanshkaushik/.jupyter/lib/python3.11/site-packages (from langchain-core<0.4.0,>=0.3.0->langchain-text-splitters) (8.5.0)\n",
      "Requirement already satisfied: httpx<0.28.0,>=0.27.0 in /Users/shivanshkaushik/.jupyter/lib/python3.11/site-packages (from ollama<1,>=0.3.0->langchain-ollama) (0.27.2)\n",
      "Requirement already satisfied: et-xmlfile in /Users/shivanshkaushik/.jupyter/lib/python3.11/site-packages (from openpyxl<4.0.0,>=3.1.5->docling) (2.0.0)\n",
      "Requirement already satisfied: python-dateutil>=2.8.2 in /Users/shivanshkaushik/.jupyter/lib/python3.11/site-packages (from pandas<3.0.0,>=2.1.4->docling) (2.9.0.post0)\n",
      "Requirement already satisfied: pytz>=2020.1 in /Users/shivanshkaushik/.jupyter/lib/python3.11/site-packages (from pandas<3.0.0,>=2.1.4->docling) (2024.2)\n",
      "Requirement already satisfied: tzdata>=2022.7 in /Users/shivanshkaushik/.jupyter/lib/python3.11/site-packages (from pandas<3.0.0,>=2.1.4->docling) (2024.1)\n",
      "Requirement already satisfied: annotated-types>=0.6.0 in /Users/shivanshkaushik/.jupyter/lib/python3.11/site-packages (from pydantic<3.0.0,>=2.0.0->docling) (0.7.0)\n",
      "Requirement already satisfied: pydantic-core==2.23.3 in /Users/shivanshkaushik/.jupyter/lib/python3.11/site-packages (from pydantic<3.0.0,>=2.0.0->docling) (2.23.3)\n",
      "Requirement already satisfied: setuptools>69 in /Users/shivanshkaushik/.jupyter/lib/python3.11/site-packages (from pymilvus<3.0.0,>=2.4.3->langchain-milvus) (75.6.0)\n",
      "Requirement already satisfied: grpcio<=1.67.1,>=1.49.1 in /Users/shivanshkaushik/.jupyter/lib/python3.11/site-packages (from pymilvus<3.0.0,>=2.4.3->langchain-milvus) (1.67.1)\n",
      "Requirement already satisfied: protobuf>=3.20.0 in /Users/shivanshkaushik/.jupyter/lib/python3.11/site-packages (from pymilvus<3.0.0,>=2.4.3->langchain-milvus) (5.29.2)\n",
      "Requirement already satisfied: ujson>=2.0.0 in /Users/shivanshkaushik/.jupyter/lib/python3.11/site-packages (from pymilvus<3.0.0,>=2.4.3->langchain-milvus) (5.10.0)\n",
      "Requirement already satisfied: milvus-lite>=2.4.0 in /Users/shivanshkaushik/.jupyter/lib/python3.11/site-packages (from pymilvus<3.0.0,>=2.4.3->langchain-milvus) (2.4.10)\n",
      "Requirement already satisfied: XlsxWriter>=0.5.7 in /Users/shivanshkaushik/.jupyter/lib/python3.11/site-packages (from python-pptx<2.0.0,>=1.0.2->docling) (3.2.0)\n",
      "Requirement already satisfied: charset-normalizer<4,>=2 in /Users/shivanshkaushik/.jupyter/lib/python3.11/site-packages (from requests<3.0.0,>=2.32.3->docling) (3.3.2)\n",
      "Requirement already satisfied: idna<4,>=2.5 in /Users/shivanshkaushik/.jupyter/lib/python3.11/site-packages (from requests<3.0.0,>=2.32.3->docling) (3.8)\n",
      "Requirement already satisfied: urllib3<3,>=1.21.1 in /Users/shivanshkaushik/.jupyter/lib/python3.11/site-packages (from requests<3.0.0,>=2.32.3->docling) (2.2.2)\n",
      "Requirement already satisfied: click>=8.0.0 in /Users/shivanshkaushik/.jupyter/lib/python3.11/site-packages (from typer<0.13.0,>=0.12.5->docling) (8.1.7)\n",
      "Requirement already satisfied: shellingham>=1.3.0 in /Users/shivanshkaushik/.jupyter/lib/python3.11/site-packages (from typer<0.13.0,>=0.12.5->docling) (1.5.4)\n",
      "Requirement already satisfied: rich>=10.11.0 in /Users/shivanshkaushik/.jupyter/lib/python3.11/site-packages (from typer<0.13.0,>=0.12.5->docling) (13.8.0)\n",
      "Requirement already satisfied: pyflakes>=3.0.0 in /Users/shivanshkaushik/.jupyter/lib/python3.11/site-packages (from autoflake<3.0.0,>=2.3.1->docling-parse<4.0.0,>=3.0.0->docling) (3.2.0)\n",
      "Requirement already satisfied: anyio in /Users/shivanshkaushik/.jupyter/lib/python3.11/site-packages (from httpx<0.28.0,>=0.27.0->ollama<1,>=0.3.0->langchain-ollama) (4.4.0)\n",
      "Requirement already satisfied: httpcore==1.* in /Users/shivanshkaushik/.jupyter/lib/python3.11/site-packages (from httpx<0.28.0,>=0.27.0->ollama<1,>=0.3.0->langchain-ollama) (1.0.5)\n",
      "Requirement already satisfied: sniffio in /Users/shivanshkaushik/.jupyter/lib/python3.11/site-packages (from httpx<0.28.0,>=0.27.0->ollama<1,>=0.3.0->langchain-ollama) (1.3.1)\n",
      "Requirement already satisfied: h11<0.15,>=0.13 in /Users/shivanshkaushik/.jupyter/lib/python3.11/site-packages (from httpcore==1.*->httpx<0.28.0,>=0.27.0->ollama<1,>=0.3.0->langchain-ollama) (0.14.0)\n",
      "Requirement already satisfied: jsonpointer>=1.9 in /Users/shivanshkaushik/.jupyter/lib/python3.11/site-packages (from jsonpatch<2.0,>=1.33->langchain-core<0.4.0,>=0.3.0->langchain-text-splitters) (3.0.0)\n",
      "Requirement already satisfied: orjson<4.0.0,>=3.9.14 in /Users/shivanshkaushik/.jupyter/lib/python3.11/site-packages (from langsmith<0.2.0,>=0.1.125->langchain-core<0.4.0,>=0.3.0->langchain-text-splitters) (3.10.7)\n",
      "Requirement already satisfied: six>=1.5 in /Users/shivanshkaushik/.jupyter/lib/python3.11/site-packages (from python-dateutil>=2.8.2->pandas<3.0.0,>=2.1.4->docling) (1.16.0)\n",
      "Requirement already satisfied: markdown-it-py>=2.2.0 in /Users/shivanshkaushik/.jupyter/lib/python3.11/site-packages (from rich>=10.11.0->typer<0.13.0,>=0.12.5->docling) (3.0.0)\n",
      "Requirement already satisfied: pygments<3.0.0,>=2.13.0 in /Users/shivanshkaushik/.jupyter/lib/python3.11/site-packages (from rich>=10.11.0->typer<0.13.0,>=0.12.5->docling) (2.18.0)\n",
      "Requirement already satisfied: mpire[dill] in /Users/shivanshkaushik/.jupyter/lib/python3.11/site-packages (from semchunk<3.0.0,>=2.2.0->docling-core) (2.10.2)\n",
      "Requirement already satisfied: networkx in /Users/shivanshkaushik/.jupyter/lib/python3.11/site-packages (from torch<3.0.0,>=2.2.2->docling-ibm-models<4.0.0,>=3.1.0->docling) (3.3)\n",
      "Requirement already satisfied: jinja2 in /Users/shivanshkaushik/.jupyter/lib/python3.11/site-packages (from torch<3.0.0,>=2.2.2->docling-ibm-models<4.0.0,>=3.1.0->docling) (3.1.4)\n",
      "Requirement already satisfied: sympy==1.13.1 in /Users/shivanshkaushik/.jupyter/lib/python3.11/site-packages (from torch<3.0.0,>=2.2.2->docling-ibm-models<4.0.0,>=3.1.0->docling) (1.13.1)\n",
      "Requirement already satisfied: mpmath<1.4,>=1.1.0 in /Users/shivanshkaushik/.jupyter/lib/python3.11/site-packages (from sympy==1.13.1->torch<3.0.0,>=2.2.2->docling-ibm-models<4.0.0,>=3.1.0->docling) (1.3.0)\n",
      "Requirement already satisfied: regex!=2019.12.17 in /Users/shivanshkaushik/.jupyter/lib/python3.11/site-packages (from transformers<5.0.0,>=4.34.0->docling-core) (2024.7.24)\n",
      "Requirement already satisfied: tokenizers<0.21,>=0.20 in /Users/shivanshkaushik/.jupyter/lib/python3.11/site-packages (from transformers<5.0.0,>=4.34.0->docling-core) (0.20.3)\n",
      "Requirement already satisfied: imageio!=2.35.0,>=2.33 in /Users/shivanshkaushik/.jupyter/lib/python3.11/site-packages (from scikit-image->easyocr<2.0,>=1.7->docling) (2.36.1)\n",
      "Requirement already satisfied: tifffile>=2022.8.12 in /Users/shivanshkaushik/.jupyter/lib/python3.11/site-packages (from scikit-image->easyocr<2.0,>=1.7->docling) (2024.12.12)\n",
      "Requirement already satisfied: lazy-loader>=0.4 in /Users/shivanshkaushik/.jupyter/lib/python3.11/site-packages (from scikit-image->easyocr<2.0,>=1.7->docling) (0.4)\n",
      "Requirement already satisfied: mdurl~=0.1 in /Users/shivanshkaushik/.jupyter/lib/python3.11/site-packages (from markdown-it-py>=2.2.0->rich>=10.11.0->typer<0.13.0,>=0.12.5->docling) (0.1.2)\n",
      "Requirement already satisfied: MarkupSafe>=2.0 in /Users/shivanshkaushik/.jupyter/lib/python3.11/site-packages (from jinja2->torch<3.0.0,>=2.2.2->docling-ibm-models<4.0.0,>=3.1.0->docling) (2.1.5)\n",
      "Requirement already satisfied: multiprocess>=0.70.15 in /Users/shivanshkaushik/.jupyter/lib/python3.11/site-packages (from mpire[dill]->semchunk<3.0.0,>=2.2.0->docling-core) (0.70.16)\n",
      "Requirement already satisfied: dill>=0.3.8 in /Users/shivanshkaushik/.jupyter/lib/python3.11/site-packages (from multiprocess>=0.70.15->mpire[dill]->semchunk<3.0.0,>=2.2.0->docling-core) (0.3.8)\n",
      "\n",
      "\u001b[1m[\u001b[0m\u001b[34;49mnotice\u001b[0m\u001b[1;39;49m]\u001b[0m\u001b[39;49m A new release of pip available: \u001b[0m\u001b[31;49m22.3\u001b[0m\u001b[39;49m -> \u001b[0m\u001b[32;49m24.3.1\u001b[0m\n",
      "\u001b[1m[\u001b[0m\u001b[34;49mnotice\u001b[0m\u001b[1;39;49m]\u001b[0m\u001b[39;49m To update, run: \u001b[0m\u001b[32;49mpip install --upgrade pip\u001b[0m\n"
     ]
    }
   ],
   "source": [
    "!pip install docling docling-core python-dotenv langchain-text-splitters langchain-ollama langchain-milvus"
   ]
  },
  {
   "cell_type": "code",
   "execution_count": 1,
   "id": "7ce244ab-3d88-424f-90e9-c45e58b3ce26",
   "metadata": {},
   "outputs": [],
   "source": [
    "from typing import Iterator\n",
    "from langchain_core.document_loaders import BaseLoader\n",
    "from langchain_core.documents import Document as LCDocument\n",
    "from docling.document_converter import DocumentConverter\n",
    "\n",
    "class DoclingPDFLoader(BaseLoader):\n",
    "    def __init__(self, file_path: str | list[str]) -> None:\n",
    "        self._file_paths = file_path if isinstance(file_path, list) else [file_path]\n",
    "        self._converter = DocumentConverter()\n",
    "\n",
    "    def lazy_load(self) -> Iterator[LCDocument]:\n",
    "        for source in self._file_paths:\n",
    "            dl_doc = self._converter.convert(source).document\n",
    "            text = dl_doc.export_to_markdown()\n",
    "            yield LCDocument(page_content=text)"
   ]
  },
  {
   "cell_type": "code",
   "execution_count": 11,
   "id": "8d3dab1d-bfdd-4659-ab8e-c20dbb858fab",
   "metadata": {},
   "outputs": [],
   "source": [
    "from langchain_text_splitters import RecursiveCharacterTextSplitter\n",
    "\n",
    "loader = DoclingPDFLoader(file_path=\"../data/docling-tech-report.pdf\")\n",
    "text_splitter = RecursiveCharacterTextSplitter(\n",
    "    chunk_size=1000,\n",
    "    chunk_overlap=200,\n",
    ")\n",
    "\n",
    "docs = loader.load()\n",
    "splits = text_splitter.split_documents(docs)"
   ]
  },
  {
   "cell_type": "code",
   "execution_count": 12,
   "id": "f7517e9e-31de-4092-927c-d7a60112eac0",
   "metadata": {},
   "outputs": [],
   "source": [
    "from langchain_huggingface.embeddings import HuggingFaceEmbeddings\n",
    "\n",
    "embeddings = HuggingFaceEmbeddings(\n",
    "    model_name=\"BAAI/bge-small-en-v1.5\"\n",
    ")"
   ]
  },
  {
   "cell_type": "code",
   "execution_count": 13,
   "id": "057d7c5b-1f87-4abe-aca8-7dd88c3c8101",
   "metadata": {},
   "outputs": [],
   "source": [
    "from langchain_milvus import Milvus\n",
    "URI = \"./milvus_example.db\"\n",
    "vectorstore = Milvus.from_documents(\n",
    "    splits,\n",
    "    embeddings,\n",
    "    connection_args={\"uri\": URI},\n",
    "    drop_old=True,\n",
    ")"
   ]
  },
  {
   "cell_type": "code",
   "execution_count": 14,
   "id": "adf6e851-ef77-460e-bcf2-bef32489d7e5",
   "metadata": {},
   "outputs": [],
   "source": [
    "from langchain_ollama import OllamaLLM\n",
    "\n",
    "llm = OllamaLLM(\n",
    "    model=\"vanilj/Phi-4:latest\"\n",
    ")"
   ]
  },
  {
   "cell_type": "code",
   "execution_count": 15,
   "id": "ef66b308-08ae-4bbe-b0a6-deef7bd88c85",
   "metadata": {},
   "outputs": [],
   "source": [
    "from typing import Iterable\n",
    "from langchain_core.output_parsers import StrOutputParser\n",
    "from langchain_core.prompts import PromptTemplate\n",
    "from langchain_core.runnables import RunnablePassthrough\n",
    "\n",
    "def format_docs(docs: Iterable[LCDocument]):\n",
    "    return \"\\n\\n\".join(doc.page_content for doc in docs)\n",
    "\n",
    "retriever = vectorstore.as_retriever()\n",
    "\n",
    "prompt = PromptTemplate.from_template(\"\"\"\n",
    "Context information is below.\n",
    "---------------------\n",
    "{context}\n",
    "---------------------\n",
    "Given the context information and not prior knowledge, answer the query.\n",
    "Query: {question}\n",
    "Answer:\n",
    "\"\"\")\n",
    "\n",
    "rag_chain = (\n",
    "    {\"context\": retriever | format_docs, \"question\": RunnablePassthrough()}\n",
    "    | prompt\n",
    "    | llm\n",
    "    | StrOutputParser()\n",
    ")"
   ]
  },
  {
   "cell_type": "code",
   "execution_count": 16,
   "id": "0002a888-071e-44c0-93a0-4196560985c3",
   "metadata": {},
   "outputs": [
    {
     "name": "stdout",
     "output_type": "stream",
     "text": [
      "The Docling team has released two highly capable AI models to the open-source community:\n",
      "\n",
      "1. **Layout Analysis Model**: This model is an accurate object-detector for page elements.\n",
      "\n",
      "2. **TableFormer**: A state-of-the-art table structure recognition model.\n",
      "\n",
      "Both of these models are part of the Docling package and are designed to facilitate document conversion tasks efficiently on commodity hardware. The pre-trained weights and inference code packages for these models are hosted on Hugging Face as `docling-ibm-models`.\n"
     ]
    }
   ],
   "source": [
    "response = rag_chain.invoke(\"Which AI models have been released by docling team?\")\n",
    "print(response)"
   ]
  },
  {
   "cell_type": "code",
   "execution_count": null,
   "id": "b0317a2a-26d0-444e-a99f-6d253e397957",
   "metadata": {},
   "outputs": [],
   "source": []
  }
 ],
 "metadata": {
  "kernelspec": {
   "display_name": "Python 3 (ipykernel)",
   "language": "python",
   "name": "python3"
  },
  "language_info": {
   "codemirror_mode": {
    "name": "ipython",
    "version": 3
   },
   "file_extension": ".py",
   "mimetype": "text/x-python",
   "name": "python",
   "nbconvert_exporter": "python",
   "pygments_lexer": "ipython3",
   "version": "3.11.0"
  }
 },
 "nbformat": 4,
 "nbformat_minor": 5
}
